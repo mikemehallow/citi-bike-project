{
 "cells": [
  {
   "cell_type": "markdown",
   "metadata": {
    "slideshow": {
     "slide_type": "slide"
    }
   },
   "source": [
    "# CitiBike \n",
    "## Part 2: Identifying Removals from Service\n",
    "\n",
    "### Overview\n",
    "The Citi Bike system is a bicycle ride sharing system based in New York City where users can rent bikes for short periods of time. Users pick up a bike at a station, and ride to another station where they drop the bike off. The bikes are used for commuting, sight seeing, and general travelling throughout the city.\n",
    "\n",
    "Part 2 is focused on identifying bikes which have been removed from service. The primary purpose of this is to help better understand how many bikes are at a station at a given time. To do this we need to understand everytime a bike is added or removed. Sometimes bikes are removed from maintenance, but we don't have any data for these removals.\n",
    "\n",
    "<img src=\"service.jpg\" width=600 height=400 />\n",
    "\n",
    "### Approach\n",
    "My approach is to infer a bike has been removed if it has been at the station without being used for a long period of time. If the bike was removed, then it would not be available for customers to select, and it would remain at the station.\n",
    "\n",
    "Note: Another reason the bike wasn't selected, would be that the bike is be broken. Thus Citi Bike could use their customer behavior data to inform them when a bike is broken.\n",
    "\n",
    "They key of this approach is to determine how long to wait before getting suspicious that the bike isn't at the station any more. 1 day? 1 week? 1 month?\n",
    "\n",
    "While a time-based approach would be okay, a better way would be to base it off the number of times a bike was not selected from a given station. Each time a customer picks a bike from a station, each bike has a chance of being selected. Each time the bike is not selected, a customer has decided not to use the bike. Each time the significance of the bike not being selected grows.\n",
    "\n",
    "In addition, the number of bikes the customer has to choose from is also important. For instance if there were 30 bikes at a station, it is fairly unlikely that any one bike would selected, and thus the weight of the customer's decision is small. However, if there are only 2 or 3 bikes available, then the signficance of the customer not choosing this bike is higher.\n",
    "\n",
    "The assumptions made here are that every bike has an equally likely chance of being selected. This is likely a false assumption. Customers may select bikes near the sides of the station more often than the middle since customers usually approach the stations from the sides and they would likely pick bike the closest bike. However, we don't have information about where the bikes are docked within a given station. This could be accommodated by choosing a high threshold for determining what is a significant result.\n",
    "\n",
    "Which bike would you choose?\n",
    "\n",
    "<img src=\"citi_bike_station.jpg\" width=600/>\n",
    "\n"
   ]
  },
  {
   "cell_type": "code",
   "execution_count": 1,
   "metadata": {
    "slideshow": {
     "slide_type": "slide"
    }
   },
   "outputs": [],
   "source": [
    "import pandas as pd\n",
    "import numpy as np\n",
    "import os\n",
    "import stat\n",
    "import requests\n",
    "import matplotlib.pyplot as plt\n",
    "import seaborn as sns\n",
    "import time\n",
    "import datetime as dt\n",
    "import data_processing"
   ]
  },
  {
   "cell_type": "markdown",
   "metadata": {},
   "source": [
    "### Read Trips Data\n",
    "\n",
    "I start by importing the May 2020 trips dataset."
   ]
  },
  {
   "cell_type": "code",
   "execution_count": 10,
   "metadata": {},
   "outputs": [],
   "source": [
    "folder = os.getcwd()\n",
    "zip_file = '/202005-citibike-tripdata.csv.zip'\n",
    "zip_file_path = folder + zip_file\n",
    "trips = data_processing.process_monthly_trips(zip_file_path)\n",
    "\n",
    "stations = pd.read_csv(folder + '/station_feed_06-24-20.csv')"
   ]
  },
  {
   "cell_type": "code",
   "execution_count": 11,
   "metadata": {},
   "outputs": [],
   "source": [
    "# Process ops data\n",
    "ops = data_processing.convert_trips_to_ops(trips)\n",
    "ops = data_processing.fill_missing_ops(trips, ops)\n",
    "ops = data_processing.insert_status_updates(stations, ops)\n",
    "\n",
    "# Calculate the new number of starting bikes\n",
    "ops['sum_net_bikes'] = ops.groupby('station_id')['net_bikes'].cumsum()\n",
    "offset = ops[ops.op_type=='status'][['station_id', 'available_bikes', 'sum_net_bikes']].copy()\n",
    "offset['starting_bikes'] = offset['available_bikes'] - offset['sum_net_bikes']"
   ]
  },
  {
   "cell_type": "code",
   "execution_count": 12,
   "metadata": {
    "tags": []
   },
   "outputs": [
    {
     "name": "stdout",
     "output_type": "stream",
     "text": [
      "Percent of invalid starting bikes 4.73 \n"
     ]
    }
   ],
   "source": [
    "# Merge the number of total docks\n",
    "offset = offset.merge(stations[['id', 'totalDocks']], how='left', left_on='station_id', right_on='id')\n",
    "\n",
    "# Get the percent of invalid starting bikes available\n",
    "print('Percent of invalid starting bikes %.2f ' % (100*np.mean((offset.starting_bikes < 0) | (offset.starting_bikes > offset.totalDocks))))"
   ]
  },
  {
   "cell_type": "markdown",
   "metadata": {},
   "source": [
    "The data shows that 4.73% stations do not fufill a valid starting criteria. This means that our data augmentation significantly improved our station data, but was not a complete solution. \n",
    "\n",
    "This is where our solution of finding removed bikes will come in"
   ]
  },
  {
   "cell_type": "markdown",
   "metadata": {
    "slideshow": {
     "slide_type": "slide"
    }
   },
   "source": [
    "### Identify Removed Bikes\n",
    "There are over 3 million operations, and about 1.5 million of them are departures. At each departure we need to change information for the other Citi Bikes located at the station the bike was removed from. With so many operations, the solution needs to be efficient and run quickly.\n",
    "\n",
    "A solution to this challenge is to create objects which track information about bikes, most specifically measures of how long it has been since a bike has been selected. To do this efficiently, a CitiBike class is defined.\n",
    "\n",
    "In addition, the specific bikes at each station needs to be tracked. This information is tracked using a Station class.\n",
    "\n",
    "This object oriented approach in Python will be much easier to write, and will iterate much faster than trying to implement in Pandas."
   ]
  },
  {
   "cell_type": "code",
   "execution_count": 13,
   "metadata": {},
   "outputs": [],
   "source": [
    "class CitiBike(object):\n",
    "    def __init__(self, id, location, last_drop_off_time):\n",
    "        self.id = id\n",
    "        self.location = location\n",
    "        self.prob_not_selected = 1\n",
    "        self.consecutive_times_not_selected = 0\n",
    "        self.last_drop_off_time = last_drop_off_time\n",
    "\n",
    "    def bike_selected(self):\n",
    "        self.prob_not_selected = 1\n",
    "        self.location = 1\n",
    "        self.consecutive_times_not_selected = 0\n",
    "\n",
    "    def bike_drop_off(self, location, time):\n",
    "        self.location = location\n",
    "        self.last_drop_off_time = time\n",
    "    \n",
    "    def bike_not_selected(self, bikes_available):\n",
    "        p = 1/bikes_available\n",
    "        self.prob_not_selected = self.prob_not_selected*(1 - p)\n",
    "        self.consecutive_times_not_selected += 1"
   ]
  },
  {
   "cell_type": "code",
   "execution_count": 14,
   "metadata": {},
   "outputs": [],
   "source": [
    "class Station(object):\n",
    "    def __init__(self, station_id, station_name, total_docks, bikes=[]):\n",
    "        self.station_id = station_id\n",
    "        self.station_name = station_name\n",
    "        self.total_docks = total_docks\n",
    "        self.bikes = bikes\n",
    "    \n",
    "    def add_bike(self, bike):\n",
    "        self.bikes.append(bike)\n",
    "    \n",
    "    def remove_bike(self, bike):\n",
    "        self.bikes.remove(bike)"
   ]
  },
  {
   "cell_type": "markdown",
   "metadata": {},
   "source": [
    "With the classes defined, the next step is to create instances for each CitiBike and Station.\n",
    "\n",
    "First, I identify all stations that are in the ops datatable. It turns out that there are two stations that are not in the Stations table. By using the unique stations in the ops data, we ensure each station that bikes go to or from has a class instance."
   ]
  },
  {
   "cell_type": "code",
   "execution_count": 16,
   "metadata": {},
   "outputs": [],
   "source": [
    "unique_stations = ops.drop_duplicates(subset=['station_id'], keep='first')\n",
    "all_stations = unique_stations[['station_id', 'station_name']].merge(stations[['id', 'totalDocks']], how='left', left_on='station_id', right_on='id').drop(columns={'id'})"
   ]
  },
  {
   "cell_type": "code",
   "execution_count": 17,
   "metadata": {},
   "outputs": [],
   "source": [
    "# Initialize network and fleet dictionaries\n",
    "def initialize_network_and_fleet(all_stations, ops):\n",
    "    # Initialize Station objects for each station\n",
    "    network = {}\n",
    "    for i, row in all_stations.iterrows():\n",
    "        network[row['station_id']] = Station(row['station_id'], row['station_name'], row['totalDocks'], [])\n",
    "\n",
    "    # Add station for bikes to live in when they leave, called \"City\"\n",
    "    network[-1] = Station(-1, 'City', 999999, [])\n",
    "\n",
    "    # Initialize fleet based on starting location of first operation of each bike\n",
    "    fleet = {}\n",
    "    first_ops = ops[ops.op_type.isin(['arrival', 'departure'])].drop_duplicates(subset=['bike_id'], keep='first')\n",
    "\n",
    "    for bike_id, station_id, op_type, op_time in first_ops[['bike_id', 'station_id', 'op_type', 'op_time']].values:\n",
    "        if op_type == 'departure':\n",
    "            starting_location = station_id\n",
    "            last_drop_off_time = np.nan\n",
    "        elif op_type == 'arrival':\n",
    "            starting_location = station_id\n",
    "            last_drop_off_time = op_time\n",
    "\n",
    "        fleet[bike_id] = CitiBike(bike_id, starting_location, last_drop_off_time)\n",
    "        network[station_id].add_bike(bike_id)    \n",
    "\n",
    "    return network, fleet"
   ]
  },
  {
   "cell_type": "markdown",
   "metadata": {},
   "source": [
    "The following function runs a simulation of CitiBike operations. \n",
    "\n",
    "If the operation is a departure, the bike object is updated and the bike_id is removed from the list of bikes located at the given station. Next, the status of all other bikes at the station are updated reflecting that they were not selected.\n",
    "\n",
    "If the operation is an arrival, the bike object is updated and the bike_id is added to the list of bikes located at the given station.\n",
    "\n",
    "The function iterates over all operations, updating the object instances as defined."
   ]
  },
  {
   "cell_type": "code",
   "execution_count": 18,
   "metadata": {
    "tags": []
   },
   "outputs": [],
   "source": [
    "def run_simulation(ops, network, fleet):\n",
    "    for bike_id, station_id, op_type, op_time in ops[ops.op_type!='status'][['bike_id', 'station_id', 'op_type', 'op_time']].values:\n",
    "        # Get CitiBike and Station objects\n",
    "        bike = fleet[bike_id]\n",
    "        station = network[station_id]\n",
    "\n",
    "        # If departure, bike has been selected, and remove bike station\n",
    "        if op_type == 'departure':\n",
    "            num_bikes_available = len(station.bikes)\n",
    "            bike.bike_selected()\n",
    "            station.remove_bike(bike_id)\n",
    "\n",
    "            # Increment selection probability of other bikes at this station\n",
    "            for bike_id in station.bikes:\n",
    "                fleet[bike_id].bike_not_selected(num_bikes_available)\n",
    "        \n",
    "        # If arrival, bike has been dropped of, and add bike to station\n",
    "        elif op_type == 'arrival':\n",
    "            bike.bike_drop_off(station_id, op_time)\n",
    "            station.add_bike(bike_id)\n",
    "    return network, fleet"
   ]
  },
  {
   "cell_type": "code",
   "execution_count": 19,
   "metadata": {},
   "outputs": [],
   "source": [
    "network, fleet = initialize_network_and_fleet(all_stations, ops)\n",
    "network, fleet = run_simulation(ops, network, fleet)"
   ]
  },
  {
   "cell_type": "code",
   "execution_count": 20,
   "metadata": {},
   "outputs": [
    {
     "data": {
      "text/plain": [
       "3025663"
      ]
     },
     "execution_count": 20,
     "metadata": {},
     "output_type": "execute_result"
    }
   ],
   "source": [
    "len(ops)"
   ]
  },
  {
   "cell_type": "markdown",
   "metadata": {},
   "source": [
    "The combination of transforming the data into a numpy array and the class based structure means this analysis runs very fast - it will process over 3 million operations in less than 60 seconds!"
   ]
  },
  {
   "cell_type": "markdown",
   "metadata": {},
   "source": [
    "Get summary information of the probability of each bike not being selcted at the end of May 2020."
   ]
  },
  {
   "cell_type": "code",
   "execution_count": 21,
   "metadata": {},
   "outputs": [],
   "source": [
    "bike_summ = pd.DataFrame([bike.__dict__ for bike in fleet.values()])"
   ]
  },
  {
   "cell_type": "markdown",
   "metadata": {},
   "source": [
    "The metric used is the probability that this bike has not been selected yet, assuming that it had an equal opportunity of being selected every time a bike was picked up at this station. We can also call this the probability the bike has been removed.\n",
    "\n",
    "A probability of 0 means that the bike was just dropped off and hasn't had a chance of being selected yet. Each time the bike isn't selected, the probability it was removed goes up.\n",
    "\n",
    "A probability close to 1 means it is very likely the bike has been removed. However, this will never reach exactly 1."
   ]
  },
  {
   "cell_type": "code",
   "execution_count": 50,
   "metadata": {
    "tags": []
   },
   "outputs": [
    {
     "data": {
      "image/png": "[encoded data removed]",
      "text/plain": [
       "<Figure size 432x288 with 1 Axes>"
      ]
     },
     "metadata": {
      "needs_background": "light"
     },
     "output_type": "display_data"
    }
   ],
   "source": [
    "plt.hist(1 - bike_summ.prob_not_selected, bins=np.linspace(0, 1, 201))\n",
    "#plt.xlim([0, 1])\n",
    "plt.xlabel('Probability Bike Removed')\n",
    "plt.title('May 2020 Final State of Bikes')\n",
    "plt.show()"
   ]
  },
  {
   "cell_type": "markdown",
   "metadata": {},
   "source": [
    "This chart shows about 2000 bikes have a very high chance of having been removed!\n",
    "\n",
    "The results show that there are a large number of bikes at 0, which means they were just dropped off"
   ]
  },
  {
   "cell_type": "markdown",
   "metadata": {},
   "source": [
    "Next, we need to determine a threshold to identify when we are statistically certain that a bike is no longer operational. If we have 15,000 bikes, and we choose a threshold of 1%, then that would mean that on average 150 bikes would be incorrectly flagged as broken. This is a lot, since someone would likely need to travel to each station to determine if a bike was operational. Also, the cost of leaving a broken Citi Bike at a station for a few days too long is fairly small. The main cost is that the station has one fewer operational docks. Therefore I will choose a threshold of 1 in 100,000.\n",
    "\n",
    "This corresponds to 10^-5 probability of not being selected if all bikes at the station were reandomly selected at the same rate."
   ]
  },
  {
   "cell_type": "code",
   "execution_count": 59,
   "metadata": {
    "tags": []
   },
   "outputs": [
    {
     "name": "stdout",
     "output_type": "stream",
     "text": [
      "Number Total Bikes : 15003\n",
      "Number Broken Bikes : 1261\n",
      "Percent Found Broken : 8.40\n"
     ]
    }
   ],
   "source": [
    "num_broken_bikes = len(bike_summ[bike_summ.prob_not_selected < 1e-5])\n",
    "num_bikes = len(bike_summ)\n",
    "\n",
    "print('Number Total Bikes : %i' % (num_bikes))\n",
    "print('Number Broken Bikes : %i' % (num_broken_bikes))\n",
    "print('Percent Found Broken : %.2f' % (100*num_broken_bikes/num_bikes))"
   ]
  },
  {
   "cell_type": "markdown",
   "metadata": {},
   "source": [
    "Choosing a threshold of 1 in 100,000 means that 8.4% of bikes are declared removed based on our single analysis at the end of the month. It's likely that these bikes were removed since they broke down. This failure rate seems slightly high, but not unreasonably so. Bikes are complex and require routine maintenance, Citi Bikes are used frequently in a harsh environment, and thus may break down at a high rate.\n",
    "\n",
    "\n",
    "### Continuous Monitoring of Bike Removals / Breakdowns\n",
    "Right now the analysis is relying on the conditions at the end of the month. It would be much better to run this analysis in real time, every time a bike is selected from a station! This would give continuous insight into which bikes are removed. As soon as we determine a bike is removed, we can remove it from that station.\n",
    "\n",
    "If this was used to determine which bikes were broken, maintenance teams could be dispatched to determine if the bike is broken.\n",
    "\n",
    "To continously monitor the status of each bike, we add a check to run each time a bike is not selected. If the probability of being operational is less than our threshold, we declare the bike not operational. At the same time, we record the number of times people selected bikes from this station before it became something is likely wrong with this bike."
   ]
  },
  {
   "cell_type": "code",
   "execution_count": 60,
   "metadata": {},
   "outputs": [],
   "source": [
    "class CitiBike(object):\n",
    "    def __init__(self, id, location, last_drop_off_time):\n",
    "        self.id = id\n",
    "        self.location = location\n",
    "        self.prob_not_selected = 1\n",
    "        self.consecutive_times_not_selected = 0\n",
    "        self.last_drop_off_time = last_drop_off_time\n",
    "        self.operational = True\n",
    "        self.trials_to_detect_failure = np.nan\n",
    "        self.time_to_detect_failure = np.nan\n",
    "\n",
    "    def bike_selected(self):\n",
    "        self.prob_not_selected = 1\n",
    "        self.location = 1\n",
    "        self.consecutive_times_not_selected = 0\n",
    "        self.operational = True\n",
    "\n",
    "    def bike_drop_off(self, location, time):\n",
    "        self.location = location\n",
    "        self.last_drop_off_time = time\n",
    "    \n",
    "    def bike_not_selected(self, bikes_available):\n",
    "        p = 1/bikes_available\n",
    "        self.prob_not_selected = self.prob_not_selected*(1 - p)\n",
    "        self.consecutive_times_not_selected += 1\n",
    "        \n",
    "    def remove_from_service(self, time):\n",
    "        self.operational = False\n",
    "        self.trials_to_detect_failure = self.consecutive_times_not_selected\n",
    "        self.time_of_detection = time\n",
    "        if type(self.last_drop_off_time) is pd.Timestamp:\n",
    "            self.time_to_detect_failure = time - self.last_drop_off_time\n",
    "\n",
    "        return (self.id, self.location, time, self.trials_to_detect_failure, self.time_to_detect_failure)"
   ]
  },
  {
   "cell_type": "code",
   "execution_count": 88,
   "metadata": {},
   "outputs": [],
   "source": [
    "def run_simulation(ops, network, fleet):\n",
    "    removals = []\n",
    "    additions = []\n",
    "    \n",
    "    for bike_id, station_id, op_type, op_time in ops[ops.op_type!='status'][['bike_id', 'station_id', 'op_type', 'op_time']].values:\n",
    "        # Get CitiBike and Station objects\n",
    "        bike = fleet[bike_id]\n",
    "        station = network[station_id]\n",
    "\n",
    "        # If departure, bike has been selected, and remove bike station\n",
    "        if op_type == 'departure':\n",
    "            num_bikes_available = len(station.bikes)\n",
    "            bike.bike_selected()\n",
    "            if bike_id in station.bikes:\n",
    "                station.remove_bike(bike_id)\n",
    "            else:\n",
    "                additions.append((bike_id, station_id, op_time))\n",
    "\n",
    "            # Increment selection probability of other bikes at this station\n",
    "            for other_bike_id in station.bikes:\n",
    "                fleet[other_bike_id].bike_not_selected(num_bikes_available)\n",
    "                \n",
    "                # Remove from bike from service\n",
    "                if fleet[other_bike_id].prob_not_selected < 1e-6:\n",
    "                    removal_info = fleet[other_bike_id].remove_from_service(op_time)\n",
    "                    removals.append(removal_info)\n",
    "            \n",
    "            # Remove non operational bikes from station\n",
    "            [station.remove_bike(x) for x in station.bikes if not fleet[x].operational]\n",
    "\n",
    "        # If arrival, bike has been dropped of, and add bike to station\n",
    "        elif op_type == 'arrival':\n",
    "            bike.bike_drop_off(station_id, op_time)\n",
    "            station.add_bike(bike_id)\n",
    "    return network, fleet, additions, removals"
   ]
  },
  {
   "cell_type": "code",
   "execution_count": 89,
   "metadata": {},
   "outputs": [],
   "source": [
    "network, fleet = initialize_network_and_fleet(all_stations, ops)\n",
    "network, fleet, addition_list, removal_list = run_simulation(ops, network, fleet)"
   ]
  },
  {
   "cell_type": "code",
   "execution_count": 90,
   "metadata": {},
   "outputs": [],
   "source": [
    "additions = pd.DataFrame(addition_list, columns=['bike_id', 'station_id', 'op_time'])\n",
    "removals = pd.DataFrame(removal_list, columns=['bike_id', 'station_id', 'removal_time', 'trials_to_detection', 'time_to_detection'])"
   ]
  },
  {
   "cell_type": "code",
   "execution_count": 91,
   "metadata": {
    "tags": []
   },
   "outputs": [
    {
     "name": "stdout",
     "output_type": "stream",
     "text": [
      "250.35746961181545\n",
      "2 days 09:15:27.989584\n"
     ]
    }
   ],
   "source": [
    "print(removals.trials_to_detection.mean())\n",
    "print(removals.time_to_detection.mean())"
   ]
  },
  {
   "cell_type": "markdown",
   "metadata": {},
   "source": [
    "On average, it takes 2 days and 5 hours without a bike being selected for the algorithm to classify it as not operational. In addition, on average there are 215 removals at the station before the algorithm determines that the bike is broken. This would be significantly shorter than waiting for the whole month to complete before batch processing. This will reduce the amount of time a broken bike takes up a dock, enable faster diagnosis, and improve the number of available bikes.\n",
    "\n",
    "<img src=\"citi_bike_crosswalk.jpg\" width=600/>"
   ]
  },
  {
   "cell_type": "markdown",
   "metadata": {},
   "source": [
    "### Add Bicycle Removals and Additions to Operations Dataset\n",
    "The next step is to use the following method to simulate removals of broken bikes. This will help determine how many bikes are at a given station at any given time."
   ]
  },
  {
   "cell_type": "code",
   "execution_count": 92,
   "metadata": {},
   "outputs": [],
   "source": [
    "# Removals\n",
    "removal_ops = removals.merge(stations[['id', 'stationName']], how='left', left_on='station_id', right_on='id')\n",
    "removal_ops = removal_ops.rename(columns={'removal_time' : 'op_time', 'stationName': 'station_name'}) \\\n",
    "                      .drop(columns={'trials_to_detection', 'time_to_detection', 'id'})\n",
    "removal_ops['op_type'] = 'removal'\n",
    "removal_ops['net_bikes'] = -1\n",
    "removal_ops['op_time'] = removal_ops['op_time'] + pd.Timedelta(1, 'ms')\n",
    "\n",
    "# Additions\n",
    "addition_ops = additions.merge(stations[['id', 'stationName']], how='left', left_on='station_id', right_on='id')\n",
    "addition_ops = addition_ops.rename(columns={'stationName': 'station_name'}).drop(columns={'id'})\n",
    "addition_ops['op_type'] = 'addition'\n",
    "addition_ops['net_bikes'] = 1\n",
    "addition_ops['op_time'] = addition_ops['op_time'] + pd.Timedelta(1, 'ms')"
   ]
  },
  {
   "cell_type": "code",
   "execution_count": 93,
   "metadata": {},
   "outputs": [],
   "source": [
    "# Calculate the new number of starting bikes\n",
    "ops_2 = pd.concat([ops, removal_ops, addition_ops]).sort_values(by='op_time')\n",
    "\n",
    "ops_2['sum_net_bikes'] = ops_2.groupby('station_id')['net_bikes'].cumsum()\n",
    "\n",
    "# Calculate the new number of starting bikes\n",
    "offset_2 = ops_2[ops_2.op_type=='status'][['station_id', 'available_bikes', 'sum_net_bikes']].copy()\n",
    "offset_2['starting_bikes'] = offset_2['available_bikes'] - offset_2['sum_net_bikes']"
   ]
  },
  {
   "cell_type": "code",
   "execution_count": 94,
   "metadata": {},
   "outputs": [
    {
     "data": {
      "image/png": "[encoded data removed]",
      "text/plain": [
       "<Figure size 576x360 with 1 Axes>"
      ]
     },
     "metadata": {
      "needs_background": "light"
     },
     "output_type": "display_data"
    }
   ],
   "source": [
    "plt.rcParams['figure.figsize'] = 8, 5\n",
    "plt.hist(offset.starting_bikes, bins=np.linspace(-300, 400, 140), label='Without Missing Trips')\n",
    "plt.hist(offset_2.starting_bikes, bins=np.linspace(-300, 400, 140), label='Without Missing Trips and Simulated Removals')\n",
    "plt.xlabel('Number of Starting Bikes')\n",
    "plt.title('Estimated Bikes at Stations at Start of May 2020')\n",
    "plt.legend()\n",
    "plt.xlim([-100, 100])\n",
    "plt.show()"
   ]
  },
  {
   "cell_type": "code",
   "execution_count": 95,
   "metadata": {},
   "outputs": [
    {
     "name": "stdout",
     "output_type": "stream",
     "text": [
      "Percent of invalid starting bikes 5.55 \n"
     ]
    }
   ],
   "source": [
    "# Merge the number of total docks\n",
    "offset_2 = offset_2.merge(stations[['id', 'totalDocks']], how='left', left_on='station_id', right_on='id')\n",
    "\n",
    "# Get the percent of invalid starting bikes available\n",
    "print('Percent of invalid starting bikes %.2f ' % (100*np.mean((offset_2.starting_bikes < 0) | (offset_2.starting_bikes > offset_2.totalDocks))))"
   ]
  }
 ],
 "metadata": {
  "kernelspec": {
   "display_name": "Python 3",
   "language": "python",
   "name": "python3"
  },
  "language_info": {
   "codemirror_mode": {
    "name": "ipython",
    "version": 3
   },
   "file_extension": ".py",
   "mimetype": "text/x-python",
   "name": "python",
   "nbconvert_exporter": "python",
   "pygments_lexer": "ipython3",
   "version": "3.6.10"
  }
 },
 "nbformat": 4,
 "nbformat_minor": 4
}
